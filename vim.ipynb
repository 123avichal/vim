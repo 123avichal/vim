{
 "cells": [
  {
   "cell_type": "markdown",
   "id": "92c005ac-a108-4464-82fe-4e911a59c467",
   "metadata": {},
   "source": [
    "Q1 what is multithreading in python? why is it used? Name the module used to handle threads in python"
   ]
  },
  {
   "cell_type": "markdown",
   "id": "d38dfd2e-d168-4393-b579-69b7018c1454",
   "metadata": {},
   "source": [
    "muthreading in python is the process excecute  multiple thread by single processes or the one core cpu\n",
    "it is used because of by using single and simple proccess it enable the resourse utilisation,reduce the memory consuption ,time consumtion and therefore increase the overall performance which bring more efficiency\n",
    "\n",
    "the module which is used in the multithreading is \n",
    "\n",
    "import threading\n",
    "\n",
    "thread = [threading.thread(target=  , args= ())]\n"
   ]
  },
  {
   "cell_type": "markdown",
   "id": "74727ebb-7954-4d4c-867a-3618465b5f7e",
   "metadata": {},
   "source": [
    "2 why threading module used? write the use of the following functions\n",
    " activeCount()\n",
    " currentThread ()\n",
    " enumerate()"
   ]
  },
  {
   "cell_type": "code",
   "execution_count": 11,
   "id": "c8f950cd-0832-475b-8abf-234e7a747d87",
   "metadata": {},
   "outputs": [],
   "source": [
    "import threading\n"
   ]
  },
  {
   "cell_type": "code",
   "execution_count": 12,
   "id": "5f96ecd1-ea79-447d-ad3a-1abca5cc2ffa",
   "metadata": {},
   "outputs": [],
   "source": [
    "def test(no):\n",
    "    for i in test:\n",
    "        print('start %d'%no)\n",
    "\n",
    "    "
   ]
  },
  {
   "cell_type": "code",
   "execution_count": 13,
   "id": "8e274d61-d24b-4693-9bc8-7a8f993c7bd2",
   "metadata": {},
   "outputs": [],
   "source": [
    "thread = [threading.Thread(target='test', args=(i,)) for i in range(4)]"
   ]
  },
  {
   "cell_type": "code",
   "execution_count": 14,
   "id": "c40bc12c-bb40-45a8-a7ac-22c50d88994e",
   "metadata": {},
   "outputs": [
    {
     "name": "stdout",
     "output_type": "stream",
     "text": [
      "<Thread(Thread-9, initial)>\n",
      "<Thread(Thread-10, initial)>\n",
      "<Thread(Thread-11, initial)>\n",
      "<Thread(Thread-12, initial)>\n"
     ]
    }
   ],
   "source": [
    "for i in thread :\n",
    "    print(i)"
   ]
  },
  {
   "cell_type": "code",
   "execution_count": 15,
   "id": "c80470d2-e7cd-4fd6-8988-1c0ae345f5bb",
   "metadata": {},
   "outputs": [
    {
     "data": {
      "text/plain": [
       "8"
      ]
     },
     "execution_count": 15,
     "metadata": {},
     "output_type": "execute_result"
    }
   ],
   "source": [
    "threading.active_count()"
   ]
  },
  {
   "cell_type": "code",
   "execution_count": 16,
   "id": "99f77b23-5884-4692-9b61-0ad5b0f5b66b",
   "metadata": {},
   "outputs": [
    {
     "name": "stderr",
     "output_type": "stream",
     "text": [
      "/tmp/ipykernel_868/1511990422.py:1: DeprecationWarning: currentThread() is deprecated, use current_thread() instead\n",
      "  threading.currentThread()\n"
     ]
    },
    {
     "data": {
      "text/plain": [
       "<_MainThread(MainThread, started 139826003339072)>"
      ]
     },
     "execution_count": 16,
     "metadata": {},
     "output_type": "execute_result"
    }
   ],
   "source": [
    "threading.currentThread()"
   ]
  },
  {
   "cell_type": "code",
   "execution_count": 17,
   "id": "7f15ac58-0547-4043-945e-15c2fc4b805f",
   "metadata": {},
   "outputs": [
    {
     "data": {
      "text/plain": [
       "[<_MainThread(MainThread, started 139826003339072)>,\n",
       " <Thread(IOPub, started daemon 139825932809792)>,\n",
       " <Heartbeat(Heartbeat, started daemon 139825924417088)>,\n",
       " <Thread(Thread-3 (_watch_pipe_fd), started daemon 139825899238976)>,\n",
       " <Thread(Thread-4 (_watch_pipe_fd), started daemon 139825890846272)>,\n",
       " <ControlThread(Control, started daemon 139825545999936)>,\n",
       " <HistorySavingThread(IPythonHistorySavingThread, started 139825537607232)>,\n",
       " <ParentPollerUnix(Thread-2, started daemon 139825528165952)>]"
      ]
     },
     "execution_count": 17,
     "metadata": {},
     "output_type": "execute_result"
    }
   ],
   "source": [
    "threading.enumerate()"
   ]
  },
  {
   "cell_type": "markdown",
   "id": "ecbcde30-8b2e-4b65-8272-d0e778b9a0d9",
   "metadata": {},
   "source": [
    "In general module bring various tools to perform various operation or to create the craft similarly threading\n",
    "module bring ample of function which perform a specific task for example , active_count(),enumurate(),Thread()etc"
   ]
  },
  {
   "cell_type": "markdown",
   "id": "fb4c9340-84b7-4e1c-8801-94a4232866d5",
   "metadata": {},
   "source": [
    "3. Explain the following functions\n",
    "1 run()\n",
    " 2start()\n",
    "3 join()\n",
    "4 isAlive()"
   ]
  },
  {
   "cell_type": "markdown",
   "id": "518e3335-efea-4502-b605-be7d308a6901",
   "metadata": {},
   "source": [
    "run() - execute any target function given thread that is actice now\n",
    "start() - to start the thread activity\n",
    "join ()- to end thread activity\n",
    "isAlive- check weather the thread is still executing"
   ]
  },
  {
   "cell_type": "markdown",
   "id": "2de31b6a-e142-4d50-abf7-e5b17a76e609",
   "metadata": {},
   "source": [
    "5 State advantages and disadvantages of multithreading"
   ]
  },
  {
   "cell_type": "markdown",
   "id": "2a81db49-7541-441a-8431-c6c382f877e7",
   "metadata": {},
   "source": [
    "advatage - Improved performance and concurrencyFor certain applications, performance and concurrency can be improved by using multithreading and multicontexting together. In other applications, performance can be unaffected or even degraded by using multithreading and multicontexting together. How performance is affected depends on your application.\n",
    "\n",
    "Simplified coding of remote procedure calls and conversations\n",
    "In some applications it is easier to code different remote procedure calls and conversations in separate threads than to manage them from the same thread.\n",
    " \n",
    " Simultaneous access to multiple applications\n",
    " \n",
    " Disadvantage= Difficulty of writing code\n",
    "\n",
    "Difficulty of debugging It is much harder to replicate an error in a multithreaded or multicontexted application than it is to do so in a single-threaded, single-contexted application. As a result, it is more difficult, in the former case, to identify and verify root causes when errors occur.\n",
    "\n",
    "Difficulty of testing \n",
    "Testing a multithreaded application is more difficult than testing a single-threaded application because defects are often timing-related and more difficult to reproduce."
   ]
  },
  {
   "cell_type": "markdown",
   "id": "87805640-ad89-4426-a5dc-bd67dbfbeb62",
   "metadata": {},
   "source": [
    "6. Explain deadlocks and race conditions."
   ]
  },
  {
   "cell_type": "markdown",
   "id": "37bb6ce9-56e7-4d8e-a0bb-d007b9bdee0c",
   "metadata": {},
   "source": [
    "A race condition occurs when two threads use the same variable at a given time. Deadlock exists when two threads seek one lock simultaneously"
   ]
  },
  {
   "cell_type": "code",
   "execution_count": null,
   "id": "27f89fd1-aee0-44f9-bfa9-752927f9909b",
   "metadata": {},
   "outputs": [],
   "source": []
  }
 ],
 "metadata": {
  "kernelspec": {
   "display_name": "Python 3 (ipykernel)",
   "language": "python",
   "name": "python3"
  },
  "language_info": {
   "codemirror_mode": {
    "name": "ipython",
    "version": 3
   },
   "file_extension": ".py",
   "mimetype": "text/x-python",
   "name": "python",
   "nbconvert_exporter": "python",
   "pygments_lexer": "ipython3",
   "version": "3.10.8"
  }
 },
 "nbformat": 4,
 "nbformat_minor": 5
}
